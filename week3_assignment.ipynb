{
 "cells": [
  {
   "cell_type": "code",
   "execution_count": null,
   "id": "1347ae49",
   "metadata": {},
   "outputs": [],
   "source": [
    "# Suppose you have ridden a bicycle from New York City to Key West, Florida.  \n",
    "# Your bicycle odometer shows the total miles, which you have dutifully logged at the end of each day \n",
    "# with paper and pencil.  Your first two entries might be 55 and 120, \n",
    "# indicating that you rode your bike 55 miles on day 1 and 65 miles on day 2.  \n",
    "\n",
    "# Your task is to create a pandas Series object that holds the cumulative miles at the end of each day, \n",
    "# then use your Python skills to show the total miles that you rode each day.  \n",
    "# Consider how you should best present this information in a Jupyter notebook.  \n",
    "# You should save your Jupyter Notebook to your GitHub repository, \n",
    "# and provide a link in your assignment submission.\n",
    "\n",
    "# Saar Turjeman\n",
    "# assignment# 3\n",
    "# cuny_sps - spring_2024"
   ]
  },
  {
   "cell_type": "code",
   "execution_count": 1,
   "id": "0286d980",
   "metadata": {},
   "outputs": [
    {
     "name": "stderr",
     "output_type": "stream",
     "text": [
      "/var/folders/rj/y6bhdw5d0bb479qq4r5l3chw0000gn/T/ipykernel_5309/1662815981.py:2: DeprecationWarning: \n",
      "Pyarrow will become a required dependency of pandas in the next major release of pandas (pandas 3.0),\n",
      "(to allow more performant data types, such as the Arrow string type, and better interoperability with other libraries)\n",
      "but was not found to be installed on your system.\n",
      "If this would cause problems for you,\n",
      "please provide us feedback at https://github.com/pandas-dev/pandas/issues/54466\n",
      "        \n",
      "  import pandas as pd\n"
     ]
    }
   ],
   "source": [
    "import numpy as np\n",
    "import pandas as pd"
   ]
  },
  {
   "cell_type": "code",
   "execution_count": 5,
   "id": "4b049cbe",
   "metadata": {},
   "outputs": [
    {
     "data": {
      "text/plain": [
       "day1    55\n",
       "day2    65\n",
       "dtype: int64"
      ]
     },
     "execution_count": 5,
     "metadata": {},
     "output_type": "execute_result"
    }
   ],
   "source": [
    "# series of two days, first day indicating 55 miles, 2nd day indicating 65 miles\n",
    "s = pd.Series([55, 65], index=('day1 day2'.split()))\n",
    "s"
   ]
  },
  {
   "cell_type": "code",
   "execution_count": 11,
   "id": "f8da851a",
   "metadata": {},
   "outputs": [
    {
     "data": {
      "text/plain": [
       "120"
      ]
     },
     "execution_count": 11,
     "metadata": {},
     "output_type": "execute_result"
    }
   ],
   "source": [
    "# total miles rode on day1 and day2\n",
    "total_miles = s.sum()\n",
    "total_miles"
   ]
  },
  {
   "cell_type": "code",
   "execution_count": 15,
   "id": "483b30b0",
   "metadata": {},
   "outputs": [
    {
     "name": "stdout",
     "output_type": "stream",
     "text": [
      "The total miles ridden is 120 miles\n"
     ]
    }
   ],
   "source": [
    "# print the total miles rode\n",
    "print(f'The total miles ridden is {total_miles} miles')"
   ]
  },
  {
   "cell_type": "code",
   "execution_count": null,
   "id": "1f030e1d",
   "metadata": {},
   "outputs": [],
   "source": []
  }
 ],
 "metadata": {
  "kernelspec": {
   "display_name": "Python 3 (ipykernel)",
   "language": "python",
   "name": "python3"
  },
  "language_info": {
   "codemirror_mode": {
    "name": "ipython",
    "version": 3
   },
   "file_extension": ".py",
   "mimetype": "text/x-python",
   "name": "python",
   "nbconvert_exporter": "python",
   "pygments_lexer": "ipython3",
   "version": "3.9.13"
  }
 },
 "nbformat": 4,
 "nbformat_minor": 5
}
